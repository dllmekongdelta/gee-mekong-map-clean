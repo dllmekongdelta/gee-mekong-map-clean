{
 "cells": [
  {
   "cell_type": "markdown",
   "id": "616a8b98",
   "metadata": {},
   "source": [
    "# Mangrove Gain: 1988-2024\n",
    "The code in this file creates an HTML file that visualizes the gain in mangrove forest coverage from 1988 to 2024 on an interactive Earth Engine map. It adds individual layers for each year of the mangrove extent, allowing the user to view and compare areas of mangrove loss. "
   ]
  },
  {
   "cell_type": "code",
   "execution_count": 54,
   "id": "b90a3140",
   "metadata": {},
   "outputs": [
    {
     "data": {
      "text/html": [
       "\n",
       "            <style>\n",
       "                .geemap-dark {\n",
       "                    --jp-widgets-color: white;\n",
       "                    --jp-widgets-label-color: white;\n",
       "                    --jp-ui-font-color1: white;\n",
       "                    --jp-layout-color2: #454545;\n",
       "                    background-color: #383838;\n",
       "                }\n",
       "\n",
       "                .geemap-dark .jupyter-button {\n",
       "                    --jp-layout-color3: #383838;\n",
       "                }\n",
       "\n",
       "                .geemap-colab {\n",
       "                    background-color: var(--colab-primary-surface-color, white);\n",
       "                }\n",
       "\n",
       "                .geemap-colab .jupyter-button {\n",
       "                    --jp-layout-color3: var(--colab-primary-surface-color, white);\n",
       "                }\n",
       "            </style>\n",
       "            "
      ],
      "text/plain": [
       "<IPython.core.display.HTML object>"
      ]
     },
     "metadata": {},
     "output_type": "display_data"
    }
   ],
   "source": [
    "%run ./GEN04_HTML_layout.ipynb\n"
   ]
  },
  {
   "cell_type": "code",
   "execution_count": null,
   "id": "e75b702d",
   "metadata": {},
   "outputs": [
    {
     "data": {
      "text/html": [
       "\n",
       "            <style>\n",
       "                .geemap-dark {\n",
       "                    --jp-widgets-color: white;\n",
       "                    --jp-widgets-label-color: white;\n",
       "                    --jp-ui-font-color1: white;\n",
       "                    --jp-layout-color2: #454545;\n",
       "                    background-color: #383838;\n",
       "                }\n",
       "\n",
       "                .geemap-dark .jupyter-button {\n",
       "                    --jp-layout-color3: #383838;\n",
       "                }\n",
       "\n",
       "                .geemap-colab {\n",
       "                    background-color: var(--colab-primary-surface-color, white);\n",
       "                }\n",
       "\n",
       "                .geemap-colab .jupyter-button {\n",
       "                    --jp-layout-color3: var(--colab-primary-surface-color, white);\n",
       "                }\n",
       "            </style>\n",
       "            "
      ],
      "text/plain": [
       "<IPython.core.display.HTML object>"
      ]
     },
     "metadata": {},
     "output_type": "display_data"
    }
   ],
   "source": [
    "import ee, os\n",
    "\n",
    "# SERVICE_ACCOUNT = os.environ.get(\"GEE_SERVICE_ACCOUNT\")\n",
    "# KEY_FILE = \"key.json\"   # GitHub Actions writes the secret here\n",
    "\n",
    "# credentials = ee.ServiceAccountCredentials(SERVICE_ACCOUNT, KEY_FILE)\n",
    "# ee.Initialize(credentials)\n",
    "\n",
    "# print(\"✅ Earth Engine initialized with Service Account\")\n",
    "\n",
    "ee.Authenticate()\n",
    "ee.Initialize()\n"
   ]
  },
  {
   "cell_type": "code",
   "execution_count": 56,
   "id": "45cc4ae7",
   "metadata": {},
   "outputs": [
    {
     "data": {
      "text/html": [
       "\n",
       "            <style>\n",
       "                .geemap-dark {\n",
       "                    --jp-widgets-color: white;\n",
       "                    --jp-widgets-label-color: white;\n",
       "                    --jp-ui-font-color1: white;\n",
       "                    --jp-layout-color2: #454545;\n",
       "                    background-color: #383838;\n",
       "                }\n",
       "\n",
       "                .geemap-dark .jupyter-button {\n",
       "                    --jp-layout-color3: #383838;\n",
       "                }\n",
       "\n",
       "                .geemap-colab {\n",
       "                    background-color: var(--colab-primary-surface-color, white);\n",
       "                }\n",
       "\n",
       "                .geemap-colab .jupyter-button {\n",
       "                    --jp-layout-color3: var(--colab-primary-surface-color, white);\n",
       "                }\n",
       "            </style>\n",
       "            "
      ],
      "text/plain": [
       "<IPython.core.display.HTML object>"
      ]
     },
     "metadata": {},
     "output_type": "display_data"
    }
   ],
   "source": [
    "# ------------- Packages & GEE ------------\n",
    "import ee                                       # Google Earth Engine API for Python\n",
    "import geemap.foliumap as geemap_folium         # Geemap module integrating Folium maps\n",
    "import folium                                   # Interactive mapping library based on Leaflet.js\n",
    "import geemap                                   # Toolkit for working with Google Earth Engine in Python\n",
    "from geemap import cartoee                      # Module for exporting and visualizing Earth Engine maps using Matplotlib\n",
    "import ipyleaflet                               # Interactive maps in Jupyter using Leaflet\n",
    "import ipywidgets as widgets                    # Interactive UI controls for Jupyter notebooks\n",
    "from branca.element import Element              # Low-level HTML/JS elements for Folium/Branca maps\n",
    "import geopandas as gpd                         # Spatial data handling (GeoDataFrames)\n",
    "import glob                                     # File pattern matching (e.g., list all .tif files in a folder)\n",
    "import json                                     # JSON encoding and decoding (read/write .json files)\n"
   ]
  },
  {
   "cell_type": "code",
   "execution_count": 57,
   "id": "1bcfd08f",
   "metadata": {},
   "outputs": [
    {
     "data": {
      "text/html": [
       "\n",
       "            <style>\n",
       "                .geemap-dark {\n",
       "                    --jp-widgets-color: white;\n",
       "                    --jp-widgets-label-color: white;\n",
       "                    --jp-ui-font-color1: white;\n",
       "                    --jp-layout-color2: #454545;\n",
       "                    background-color: #383838;\n",
       "                }\n",
       "\n",
       "                .geemap-dark .jupyter-button {\n",
       "                    --jp-layout-color3: #383838;\n",
       "                }\n",
       "\n",
       "                .geemap-colab {\n",
       "                    background-color: var(--colab-primary-surface-color, white);\n",
       "                }\n",
       "\n",
       "                .geemap-colab .jupyter-button {\n",
       "                    --jp-layout-color3: var(--colab-primary-surface-color, white);\n",
       "                }\n",
       "            </style>\n",
       "            "
      ],
      "text/plain": [
       "<IPython.core.display.HTML object>"
      ]
     },
     "metadata": {},
     "output_type": "display_data"
    }
   ],
   "source": [
    "# ------------- Calculate mangrove gain per time interval -------------\n",
    "# Mangrove gain = mangroves not present earlier but present later\n",
    "gain_1988_1992 = mangrove_1992.And(mangrove_1988.Not())\n",
    "gain_1992_1997 = mangrove_1997.And(mangrove_1992.Not())\n",
    "gain_1997_2001 = mangrove_2001.And(mangrove_1997.Not())\n",
    "gain_2001_2005 = mangrove_2005.And(mangrove_2001.Not())\n",
    "gain_2005_2010 = mangrove_2010.And(mangrove_2005.Not())\n",
    "gain_2010_2015 = mangrove_2015.And(mangrove_2010.Not())\n",
    "gain_2015_2020 = mangrove_2020.And(mangrove_2015.Not())\n",
    "gain_2020_2024 = mangrove_2024.And(mangrove_2020.Not())\n",
    "\n",
    "# Create a folium-based map\n",
    "Map = geemap_folium.Map(center=[9.2, 105.75], zoom=11)\n",
    "\n",
    "# Add Sentinel-2 as basemap (true color RGB)\n",
    "Map.addLayer(\n",
    "    sentinel,\n",
    "    {\"bands\": [\"B4\", \"B3\", \"B2\"], \"min\": 0, \"max\": 3000},\n",
    "    \"Sentinel-2 (2024)\"\n",
    ")"
   ]
  },
  {
   "cell_type": "code",
   "execution_count": 58,
   "id": "ac15ad32",
   "metadata": {},
   "outputs": [
    {
     "data": {
      "text/html": [
       "\n",
       "            <style>\n",
       "                .geemap-dark {\n",
       "                    --jp-widgets-color: white;\n",
       "                    --jp-widgets-label-color: white;\n",
       "                    --jp-ui-font-color1: white;\n",
       "                    --jp-layout-color2: #454545;\n",
       "                    background-color: #383838;\n",
       "                }\n",
       "\n",
       "                .geemap-dark .jupyter-button {\n",
       "                    --jp-layout-color3: #383838;\n",
       "                }\n",
       "\n",
       "                .geemap-colab {\n",
       "                    background-color: var(--colab-primary-surface-color, white);\n",
       "                }\n",
       "\n",
       "                .geemap-colab .jupyter-button {\n",
       "                    --jp-layout-color3: var(--colab-primary-surface-color, white);\n",
       "                }\n",
       "            </style>\n",
       "            "
      ],
      "text/plain": [
       "<IPython.core.display.HTML object>"
      ]
     },
     "metadata": {},
     "output_type": "display_data"
    }
   ],
   "source": [
    "# ------------- Add gain layers with palette and generate tile URLs -------------\n",
    "gain_layers = {\n",
    "    \"Mangrove gain (1988-1992)\": (gain_1988_1992, color_1988_1992_gain),\n",
    "    \"Mangrove gain (1992-1997)\": (gain_1992_1997, color_1992_1997_gain),\n",
    "    \"Mangrove gain (1997-2001)\": (gain_1997_2001, color_1997_2001_gain),\n",
    "    \"Mangrove gain (2001-2005)\": (gain_2001_2005, color_2001_2005_gain),\n",
    "    \"Mangrove gain (2005-2010)\": (gain_2005_2010, color_2005_2010_gain),\n",
    "    \"Mangrove gain (2010-2015)\": (gain_2010_2015, color_2010_2015_gain),\n",
    "    \"Mangrove gain (2015-2020)\": (gain_2015_2020, color_2015_2020_gain),\n",
    "    \"Mangrove gain (2020-2024)\": (gain_2020_2024, color_2020_2024_gain),\n",
    "}\n",
    "\n",
    "# -------------- Add gain maps -----------------\n",
    "Map.addLayer(gain_1988_1992.updateMask(gain_1988_1992), {\"palette\": [color_1988_1992_gain]}, \"Mangrove gain (1988-1992)\")\n",
    "Map.addLayer(gain_1992_1997.updateMask(gain_1992_1997), {\"palette\": [color_1992_1997_gain]}, \"Mangrove gain (1992-1997)\")\n",
    "Map.addLayer(gain_1997_2001.updateMask(gain_1997_2001), {\"palette\": [color_1997_2001_gain]}, \"Mangrove gain (1997-2001)\")\n",
    "Map.addLayer(gain_2001_2005.updateMask(gain_2001_2005), {\"palette\": [color_2001_2005_gain]}, \"Mangrove gain (2001-2005)\")\n",
    "Map.addLayer(gain_2005_2010.updateMask(gain_2005_2010), {\"palette\": [color_2005_2010_gain]}, \"Mangrove gain (2005-2010)\")\n",
    "Map.addLayer(gain_2010_2015.updateMask(gain_2010_2015), {\"palette\": [color_2010_2015_gain]}, \"Mangrove gain (2010-2015)\")\n",
    "Map.addLayer(gain_2015_2020.updateMask(gain_2015_2020), {\"palette\": [color_2015_2020_gain]}, \"Mangrove gain (2015-2020)\")\n",
    "Map.addLayer(gain_2020_2024.updateMask(gain_2020_2024), {\"palette\": [color_2020_2024_gain]}, \"Mangrove gain (2020-2024)\")\n",
    "\n"
   ]
  },
  {
   "cell_type": "code",
   "execution_count": 59,
   "id": "04c51dd1",
   "metadata": {},
   "outputs": [
    {
     "data": {
      "text/html": [
       "\n",
       "            <style>\n",
       "                .geemap-dark {\n",
       "                    --jp-widgets-color: white;\n",
       "                    --jp-widgets-label-color: white;\n",
       "                    --jp-ui-font-color1: white;\n",
       "                    --jp-layout-color2: #454545;\n",
       "                    background-color: #383838;\n",
       "                }\n",
       "\n",
       "                .geemap-dark .jupyter-button {\n",
       "                    --jp-layout-color3: #383838;\n",
       "                }\n",
       "\n",
       "                .geemap-colab {\n",
       "                    background-color: var(--colab-primary-surface-color, white);\n",
       "                }\n",
       "\n",
       "                .geemap-colab .jupyter-button {\n",
       "                    --jp-layout-color3: var(--colab-primary-surface-color, white);\n",
       "                }\n",
       "            </style>\n",
       "            "
      ],
      "text/plain": [
       "<IPython.core.display.HTML object>"
      ]
     },
     "metadata": {},
     "output_type": "display_data"
    }
   ],
   "source": [
    "# for name, (layer, color) in loss_layers.items():\n",
    "#     vis = {\"palette\": [color]}\n",
    "#     Map.addLayer(layer.updateMask(layer), vis, name)\n",
    "#     tile_urls[name] = generate_tile_url(layer, vis)\n",
    "\n",
    "# # Save tile URLs to JSON\n",
    "# with open(\"tile_urls.json\", \"w\") as f:\n",
    "#     json.dump(tile_urls, f, indent=2)\n",
    "  "
   ]
  },
  {
   "cell_type": "code",
   "execution_count": 60,
   "id": "de01897e",
   "metadata": {},
   "outputs": [
    {
     "data": {
      "text/html": [
       "\n",
       "            <style>\n",
       "                .geemap-dark {\n",
       "                    --jp-widgets-color: white;\n",
       "                    --jp-widgets-label-color: white;\n",
       "                    --jp-ui-font-color1: white;\n",
       "                    --jp-layout-color2: #454545;\n",
       "                    background-color: #383838;\n",
       "                }\n",
       "\n",
       "                .geemap-dark .jupyter-button {\n",
       "                    --jp-layout-color3: #383838;\n",
       "                }\n",
       "\n",
       "                .geemap-colab {\n",
       "                    background-color: var(--colab-primary-surface-color, white);\n",
       "                }\n",
       "\n",
       "                .geemap-colab .jupyter-button {\n",
       "                    --jp-layout-color3: var(--colab-primary-surface-color, white);\n",
       "                }\n",
       "            </style>\n",
       "            "
      ],
      "text/plain": [
       "<IPython.core.display.HTML object>"
      ]
     },
     "metadata": {},
     "output_type": "display_data"
    },
    {
     "data": {
      "text/plain": [
       "<branca.element.Element at 0x267de748850>"
      ]
     },
     "execution_count": 60,
     "metadata": {},
     "output_type": "execute_result"
    }
   ],
   "source": [
    "# ------- Add legend      --------\n",
    "legend_title = \"Mangrove Gain Map (1988-2024)\"\n",
    "add_folium_legend(Map, legend_title, legend_dict_mangrove_GAIN, style=style)\n",
    "\n",
    "# ------- Add scalebar     -------\n",
    "Map.add_child(ScaleBar(font_size=\"14px\"))\n",
    "\n",
    "# ------- Add north arrow --------\n",
    "add_north_arrow(Map, position=\"bottomleft\", arrow_size=\"35px\", text_size=\"25px\")\n",
    "\n",
    "# ------- Add Living LAb logo -----\n",
    "Map.get_root().html.add_child(folium.Element(logo_html))"
   ]
  },
  {
   "cell_type": "code",
   "execution_count": 61,
   "id": "e7399966",
   "metadata": {},
   "outputs": [
    {
     "data": {
      "text/html": [
       "\n",
       "            <style>\n",
       "                .geemap-dark {\n",
       "                    --jp-widgets-color: white;\n",
       "                    --jp-widgets-label-color: white;\n",
       "                    --jp-ui-font-color1: white;\n",
       "                    --jp-layout-color2: #454545;\n",
       "                    background-color: #383838;\n",
       "                }\n",
       "\n",
       "                .geemap-dark .jupyter-button {\n",
       "                    --jp-layout-color3: #383838;\n",
       "                }\n",
       "\n",
       "                .geemap-colab {\n",
       "                    background-color: var(--colab-primary-surface-color, white);\n",
       "                }\n",
       "\n",
       "                .geemap-colab .jupyter-button {\n",
       "                    --jp-layout-color3: var(--colab-primary-surface-color, white);\n",
       "                }\n",
       "            </style>\n",
       "            "
      ],
      "text/plain": [
       "<IPython.core.display.HTML object>"
      ]
     },
     "metadata": {},
     "output_type": "display_data"
    }
   ],
   "source": [
    "Map.to_html(\"tryout_goal_GAIN.html\")\n"
   ]
  }
 ],
 "metadata": {
  "kernelspec": {
   "display_name": "gee-env2",
   "language": "python",
   "name": "python3"
  },
  "language_info": {
   "codemirror_mode": {
    "name": "ipython",
    "version": 3
   },
   "file_extension": ".py",
   "mimetype": "text/x-python",
   "name": "python",
   "nbconvert_exporter": "python",
   "pygments_lexer": "ipython3",
   "version": "3.13.7"
  }
 },
 "nbformat": 4,
 "nbformat_minor": 5
}
