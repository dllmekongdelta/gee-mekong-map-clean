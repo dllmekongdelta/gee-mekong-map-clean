{
 "cells": [
  {
   "cell_type": "markdown",
   "id": "0d4d4de2",
   "metadata": {},
   "source": [
    "# Mangrove Layers\n",
    "This python files loads Landsat and Sentinel satellite imagery for multiple years over the defined AOI, computes NDVI for each image, and then applies a threshold to identify mangrove areas for each time period.\n",
    "\n",
    "Next to this, the background satellite image is composed for the map\n"
   ]
  },
  {
   "cell_type": "code",
   "execution_count": null,
   "id": "7739a44d",
   "metadata": {},
   "outputs": [],
   "source": []
  },
  {
   "cell_type": "code",
   "execution_count": null,
   "id": "a189bc86",
   "metadata": {},
   "outputs": [],
   "source": [
    "%run ./GEN02_AOI.ipynb\n",
    "%run ./GEN03_helper_functions.ipynb\n"
   ]
  },
  {
   "cell_type": "code",
   "execution_count": null,
   "id": "b957663a",
   "metadata": {},
   "outputs": [],
   "source": [
    "# ---------  Landsat & Sentinel collections  ------------------\n",
    "\n",
    "# Landsat 5 for 1990, 1997\n",
    "landsat1988 = get_landsat_composite(\"LANDSAT/LT05/C02/T1_L2\", 1988, aoi)\n",
    "landsat1992 = get_landsat_composite(\"LANDSAT/LT05/C02/T1_L2\", 1992, aoi)\n",
    "landsat1997 = get_landsat_composite(\"LANDSAT/LT05/C02/T1_L2\", 1997, aoi)\n",
    "\n",
    "# Landsat 7 for 2000, 2005, 2010\n",
    "# landsat1995 = get_landsat_composite(\"LANDSAT/LE07/C02/T1_L2\", 1995, aoi)\n",
    "landsat2001 = get_landsat_composite(\"LANDSAT/LE07/C02/T1_L2\", 2001, aoi)\n",
    "landsat2005 = get_landsat_composite(\"LANDSAT/LE07/C02/T1_L2\", 2005, aoi)\n",
    "landsat2010 = get_landsat_composite(\"LANDSAT/LE07/C02/T1_L2\", 2010, aoi)\n",
    "# Landsat 8 for 2015\n",
    "landsat2015 = get_landsat_composite(\"LANDSAT/LC08/C02/T1_L2\", 2015, aoi)\n",
    "## landsat 8 for 2020 \n",
    "# landsat2020 = get_landsat_composite(\"LANDSAT/LC08/C02/T1_L2\", 2020, aoi)\n",
    "## landsat9 for 2025\n",
    "# landsat2025 = get_landsat_composite(\"LANDSAT/LC09/C02/T1_L2\", 2025, aoi)\n",
    "\n",
    "# Sentinel 2 for 2020, 2025\n",
    "sentinel2020 = get_sentinel_composite(\"COPERNICUS/S2_SR_HARMONIZED\", 2020, aoi)\n",
    "sentinel2024 = get_sentinel_composite(\"COPERNICUS/S2_SR_HARMONIZED\", 2024, aoi)\n",
    "\n",
    "\n",
    "# ----------------- NDVI ---------------\n",
    "landsat1988 = add_ndvi(landsat1988, \"L5\")\n",
    "landsat1992 = add_ndvi(landsat1992, \"L5\")\n",
    "landsat1997 = add_ndvi(landsat1997, \"L5\")\n",
    "landsat2001 = add_ndvi(landsat2001, \"L7\")\n",
    "landsat2005 = add_ndvi(landsat2005, \"L7\")\n",
    "landsat2010 = add_ndvi(landsat2010, \"L7\")\n",
    "landsat2015 = add_ndvi(landsat2015, \"L8\")\n",
    "sentinel2020 = add_ndvi(sentinel2020, \"S2\")\n",
    "sentinel2024 = add_ndvi(sentinel2024, \"S2\")\n",
    "\n",
    "\n",
    "# Threshold NDVI for mangroves\n",
    "ndvi_threshold = 0.1\n",
    "\n",
    "# Create mangrove layers\n",
    "mangrove_1988 = landsat1988.select(\"NDVI\").gt(ndvi_threshold)\n",
    "mangrove_1992 = landsat1992.select(\"NDVI\").gt(ndvi_threshold)\n",
    "mangrove_1997 = landsat1997.select(\"NDVI\").gt(ndvi_threshold)\n",
    "mangrove_2001 = landsat2001.select(\"NDVI\").gt(ndvi_threshold)\n",
    "mangrove_2005 = landsat2005.select(\"NDVI\").gt(ndvi_threshold)\n",
    "mangrove_2010 = landsat2010.select(\"NDVI\").gt(ndvi_threshold)\n",
    "mangrove_2015 = landsat2015.select(\"NDVI\").gt(ndvi_threshold)\n",
    "mangrove_2020 = sentinel2020.select(\"NDVI\").gt(ndvi_threshold)\n",
    "mangrove_2024 = sentinel2024.select(\"NDVI\").gt(ndvi_threshold)\n",
    "\n",
    "# --------------- Set Colors for LOSS layers and legend -------------\n",
    "color_1988_1992_loss = \"#2C0035\"  # Very dark violet-blue (oldest)\n",
    "color_1992_1997_loss = \"#4D004B\"\n",
    "color_1997_2001_loss = \"#810F7C\"\n",
    "color_2001_2005_loss = \"#8856A7\"\n",
    "color_2005_2010_loss = \"#8C96C6\"\n",
    "color_2010_2015_loss = \"#9EBCDA\"\n",
    "color_2015_2020_loss = \"#BFD3E6\"\n",
    "color_2020_2024_loss = \"#E0F3F8\"  # Pale blue (most recent)\n",
    "\n",
    "\n",
    "# --------------- Set Colors for GAIN layers and legend -----------------\n",
    "color_1988_1992_gain = \"#e5f5f9\"  # very pale green (oldest)\n",
    "color_1992_1997_gain = \"#ccece6\"  # pale green\n",
    "color_1997_2001_gain = \"#99d8c9\"  # light green\n",
    "color_2001_2005_gain = \"#66c2a4\"  # medium-light green\n",
    "color_2005_2010_gain = \"#41ae76\"  # medium green\n",
    "color_2010_2015_gain = \"#238b45\"  # strong green\n",
    "color_2015_2020_gain = \"#006d2c\"  # dark green\n",
    "color_2020_2024_gain = \"#00441b\"  # very dark green (most recent)\n",
    "\n",
    "# --------------- Set Color for COVERAGE layers and legend -----------------\n",
    "color_mangrove_coverage = \"#1a9850\"\n"
   ]
  },
  {
   "cell_type": "markdown",
   "id": "f9f19469",
   "metadata": {},
   "source": [
    "### Background satellite image"
   ]
  },
  {
   "cell_type": "code",
   "execution_count": null,
   "id": "fd184b78",
   "metadata": {},
   "outputs": [],
   "source": [
    "import ee\n",
    "# Sentinel-2 Surface Reflectance (10 m) - better resolution\n",
    "sentinel = (\n",
    "    ee.ImageCollection(\"COPERNICUS/S2_SR_HARMONIZED\")\n",
    "    # .filterBounds(aoi)\n",
    "    .filterDate(\"2024-01-01\", \"2024-12-31\")  # pick recent year\n",
    "    .filter(ee.Filter.lt(\"CLOUDY_PIXEL_PERCENTAGE\", 20))  # filter clouds\n",
    "    .median()\n",
    "    # .clip(aoi)\n",
    ")\n",
    "\n"
   ]
  }
 ],
 "metadata": {
  "kernelspec": {
   "display_name": "gee-env2",
   "language": "python",
   "name": "python3"
  },
  "language_info": {
   "codemirror_mode": {
    "name": "ipython",
    "version": 3
   },
   "file_extension": ".py",
   "mimetype": "text/x-python",
   "name": "python",
   "nbconvert_exporter": "python",
   "pygments_lexer": "ipython3",
   "version": "3.13.7"
  }
 },
 "nbformat": 4,
 "nbformat_minor": 5
}
