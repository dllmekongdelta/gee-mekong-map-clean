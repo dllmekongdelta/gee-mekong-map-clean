{
 "cells": [
  {
   "cell_type": "code",
   "execution_count": 1,
   "id": "420eac75",
   "metadata": {},
   "outputs": [],
   "source": [
    "%run ./GEN05_mangrove_layers.ipynb\n"
   ]
  },
  {
   "cell_type": "markdown",
   "id": "63756c38",
   "metadata": {},
   "source": [
    "### Legend\n",
    "Three different legend dictionaries for the mangrove loss, gain, and coverage maps"
   ]
  },
  {
   "cell_type": "code",
   "execution_count": 2,
   "id": "c12079e7",
   "metadata": {},
   "outputs": [],
   "source": [
    "# --------------Add Legend --------------------\n",
    "legend_dict_mangrove_LOSS = {\n",
    "    \"Mangrove loss (1984-1992)\": color_1988_1992_loss,\n",
    "    \"Mangrove loss (1992-1997)\": color_1992_1997_loss,\n",
    "    \"Mangrove loss (1997-2001)\": color_1997_2001_loss,\n",
    "    \"Mangrove loss (2001-2005)\": color_2001_2005_loss,\n",
    "    \"Mangrove loss (2005-2010)\": color_2005_2010_loss,\n",
    "    \"Mangrove loss (2010-2015)\": color_2010_2015_loss,\n",
    "    \"Mangrove loss (2015-2020)\": color_2015_2020_loss,\n",
    "    \"Mangrove loss (2020-2025)\": color_2020_2024_loss \n",
    "    # \"Breakwaters\": color_breakwater,\n",
    "    # \"Seadikes\": color_seadike\n",
    "    }\n",
    "legend_dict_mangrove_GAIN = {\n",
    "    \"Mangrove gain (1984-1990)\": color_1988_1992_gain,\n",
    "    \"Mangrove gain (1990-1995)\": color_1992_1997_gain,\n",
    "    \"Mangrove gain (1995-2000)\": color_1997_2001_gain,\n",
    "    \"Mangrove gain (2000-2005)\": color_2001_2005_gain,\n",
    "    \"Mangrove gain (2005-2010)\": color_2005_2010_gain,\n",
    "    \"Mangrove gain (2010-2015)\": color_2010_2015_gain,\n",
    "    \"Mangrove gain (2015-2020)\": color_2015_2020_gain,\n",
    "    \"Mangrove gain (2020-2025)\": color_2020_2024_gain,\n",
    "}\n",
    "\n",
    "legend_dict_mangrove_COVERAGE = {\n",
    "    \"Mangrove coverage\": color_mangrove_coverage\n",
    "}\n",
    "\n",
    "style = {\n",
    "    \"position\": \"fixed\",\n",
    "    \"z-index\": \"9999\",\n",
    "    \"border\": \"2px solid grey\",\n",
    "    \"background-color\": \"rgba(255, 255, 255, 0.8)\",\n",
    "    \"border-radius\": \"10px\",\n",
    "    \"padding\": \"5px\",\n",
    "    \"font-size\": \"14px\",\n",
    "    \"bottom\": \"20px\",\n",
    "    \"right\": \"5px\",\n",
    "}\n",
    "def add_folium_legend(m, title, legend_dict, style=None):\n",
    "    \"\"\"Add a custom legend to a folium map.\"\"\"\n",
    "    if style is None:\n",
    "        style = {\n",
    "            \"position\": \"fixed\",\n",
    "            \"z-index\": \"9999\",\n",
    "            \"border\": \"2px solid grey\",\n",
    "            \"background-color\": \"rgba(255, 255, 255, 0.8)\",\n",
    "            \"border-radius\": \"10px\",\n",
    "            \"padding\": \"5px\",\n",
    "            \"font-size\": \"14px\",\n",
    "            \"bottom\": \"20px\",\n",
    "            \"right\": \"5px\",\n",
    "        }\n",
    "\n",
    "    style_str = \";\".join([f\"{k}:{v}\" for k, v in style.items()])\n",
    "    legend_html = f'<div style=\"{style_str}\">'\n",
    "    legend_html += f\"<b>{title}</b><br>\"\n",
    "\n",
    "    for label, color in legend_dict.items():\n",
    "        legend_html += (\n",
    "            f'<i style=\"background:{color};width:15px;height:15px;'\n",
    "            f'display:inline-block;margin-right:5px;\"></i>{label}<br>'\n",
    "        )\n",
    "\n",
    "    legend_html += \"</div>\"\n",
    "    m.get_root().html.add_child(folium.Element(legend_html))"
   ]
  },
  {
   "cell_type": "markdown",
   "id": "d306986e",
   "metadata": {},
   "source": [
    "### Scalebar"
   ]
  },
  {
   "cell_type": "code",
   "execution_count": 3,
   "id": "0bfa78f7",
   "metadata": {},
   "outputs": [],
   "source": [
    "from branca.element import MacroElement, Element\n",
    "from jinja2 import Template\n",
    "\n",
    "class ScaleBar(MacroElement):\n",
    "    _template = Template(u\"\"\"\n",
    "        {% macro script(this, kwargs) %}\n",
    "        L.control.scale({\n",
    "            position: 'bottomleft',\n",
    "            metric: true,\n",
    "            imperial: false,\n",
    "            maxWidth: 300\n",
    "        }).addTo({{this._parent.get_name()}});\n",
    "        {% endmacro %}\n",
    "    \"\"\")\n",
    "\n",
    "    def __init__(self, position=\"bottomleft\", metric=True, imperial=False, max_width=300, font_size=\"16px\"):\n",
    "        super().__init__()\n",
    "        self._name = \"ScaleBar\"\n",
    "        self.position = position\n",
    "        self.metric = metric\n",
    "        self.imperial = imperial\n",
    "        self.max_width = max_width\n",
    "        self.font_size = font_size\n",
    "\n",
    "    def render(self, **kwargs):\n",
    "        super().render(**kwargs)\n",
    "        # Inject CSS for larger font\n",
    "        css = f\"\"\"\n",
    "        <style>\n",
    "        .leaflet-control-scale-line {{\n",
    "            font-size: {self.font_size} !important;\n",
    "            font-weight: bold;\n",
    "        }}\n",
    "        </style>\n",
    "        \"\"\"\n",
    "        self.get_root().html.add_child(Element(css))"
   ]
  },
  {
   "cell_type": "markdown",
   "id": "03562b08",
   "metadata": {},
   "source": [
    "### North Arrow"
   ]
  },
  {
   "cell_type": "code",
   "execution_count": 4,
   "id": "783c85a0",
   "metadata": {},
   "outputs": [],
   "source": [
    "# ----------- north arrow ----------------\n",
    "def add_north_arrow(m, position=\"topright\", arrow_size=\"35px\", text_size=\"25px\"):\n",
    "    arrow_css = f\"\"\"\n",
    "        <div style=\"\n",
    "            position: absolute; \n",
    "            { 'top: 10px; right: 10px;' if position=='topright' else '' }\n",
    "            { 'top: 10px; left: 10px;' if position=='topleft' else '' }\n",
    "            { 'bottom: 10px; right: 10px;' if position=='bottomright' else '' }\n",
    "            { 'bottom: 30px; left: 10px;' if position=='bottomleft' else '' }\n",
    "            z-index: 9999; \n",
    "            font-weight: bold; \n",
    "            color: black;\n",
    "            text-shadow: 1px 1px 2px white;\n",
    "            display: flex;\n",
    "            align-items: center;\n",
    "        \">\n",
    "            <span style=\"font-size:{arrow_size}; line-height:1;\">↑</span>\n",
    "            <span style=\"font-size:{text_size}; margin-left: 4px; line-height:1;\">N</span>\n",
    "        </div>\n",
    "    \"\"\"\n",
    "    m.get_root().html.add_child(folium.Element(arrow_css))"
   ]
  },
  {
   "cell_type": "markdown",
   "id": "a030f20b",
   "metadata": {},
   "source": [
    "# Logo\n",
    "This part sets the logo of the living lab on the map using HTML."
   ]
  },
  {
   "cell_type": "code",
   "execution_count": 5,
   "id": "e1988b08",
   "metadata": {},
   "outputs": [],
   "source": [
    "logo_html = \"\"\"\n",
    "<div style=\"\n",
    "     position: fixed;\n",
    "     top: 10px;\n",
    "     left: 50px;                                /* 50px from right edge */\n",
    "     z-index: 9999;\n",
    "     background-color: rgba(255, 255, 255, 0.8);  /* semi-transparent white background */\n",
    "     border-radius: 10px;                         /* rounded corners */\n",
    "     padding: 4px 8px;                            /* smaller padding (vertical, horizontal) */\n",
    "     box-shadow: 0px 0px 6px rgba(0,0,0,0.3);     /* subtle shadow */\n",
    "     text-align: center;                          /* center horizontally */\n",
    "     display: flex;                               /* enable vertical centering */\n",
    "     align-items: center;                         /* center vertically */\n",
    "     justify-content: center;                     /* center horizontally again for safety */\n",
    "     height: 90px;                                /* smaller white box height */\n",
    "\">\n",
    "     <img src=\"images/Living_lab_logo_optie_1.png\" height=\"80px\" style=\"width:auto;\">\n",
    "</div>\n",
    "\"\"\""
   ]
  }
 ],
 "metadata": {
  "kernelspec": {
   "display_name": "gee-env2",
   "language": "python",
   "name": "python3"
  },
  "language_info": {
   "codemirror_mode": {
    "name": "ipython",
    "version": 3
   },
   "file_extension": ".py",
   "mimetype": "text/x-python",
   "name": "python",
   "nbconvert_exporter": "python",
   "pygments_lexer": "ipython3",
   "version": "3.13.7"
  }
 },
 "nbformat": 4,
 "nbformat_minor": 5
}
