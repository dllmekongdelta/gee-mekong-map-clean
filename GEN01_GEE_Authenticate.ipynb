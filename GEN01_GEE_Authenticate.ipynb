{
 "cells": [
  {
   "cell_type": "code",
   "execution_count": null,
   "id": "691255f6",
   "metadata": {},
   "outputs": [],
   "source": [
    "import ee, os\n",
    "\n",
    "# # ------- To run in Visual Studio Code (REMOVE WHEN FINAL PUSH TO GITHUB!)\n",
    "# SERVICE_ACCOUNT = os.environ.get(\"gee-map-bot@gee-mekong-map.iam.gserviceaccount.com\")\n",
    "# KEY_FILE = \"gee-mekong-map-2c919dd0361c.json\"\n",
    "\n",
    "# credentials = ee.ServiceAccountCredentials(SERVICE_ACCOUNT, KEY_FILE)\n",
    "# ee.Initialize(credentials)\n",
    "\n",
    "# ------- To run on GitHub ------------------\n",
    "SERVICE_ACCOUNT = os.environ.get(\"GEE_SERVICE_ACCOUNT\")\n",
    "KEY_FILE = \"key.json\"   # GitHub Actions writes the secret here\n",
    "\n",
    "# credentials = ee.ServiceAccountCredentials(SERVICE_ACCOUNT, KEY_FILE)\n",
    "# ee.Initialize(credentials)\n",
    "\n",
    "# print(\"✅ Earth Engine initialized with Service Account\")"
   ]
  }
 ],
 "metadata": {
  "language_info": {
   "name": "python"
  }
 },
 "nbformat": 4,
 "nbformat_minor": 5
}
