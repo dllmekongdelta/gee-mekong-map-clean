{
 "cells": [
  {
   "cell_type": "markdown",
   "id": "a11f3c90",
   "metadata": {},
   "source": [
    "### Helper functions\n",
    "In the other python files, these functions are called to execute certain tasks"
   ]
  },
  {
   "cell_type": "markdown",
   "id": "2a2dc65c",
   "metadata": {},
   "source": [
    "##### Satellite images\n",
    "These functions retrieve cloud-filtered Landsat or Sentinel satellite images for a specific year and AOI from Google Earth Engine, then create a composite image that is clipped to the AOI"
   ]
  },
  {
   "cell_type": "code",
   "execution_count": 5,
   "id": "3537702b",
   "metadata": {},
   "outputs": [],
   "source": [
    "# ------------ Retrieve Landsat satellite images from GEE ----------------\n",
    "def get_landsat_composite(collection_id, year, aoi):\n",
    "    collection = (\n",
    "        ee.ImageCollection(collection_id)\n",
    "        .filterBounds(aoi)\n",
    "        .filterDate(f\"{year}-01-01\", f\"{year}-12-31\")\n",
    "        .filter(ee.Filter.lt(\"CLOUD_COVER\", 30))\n",
    "    )\n",
    "    return collection.median().clip(aoi)\n",
    "\n",
    "# ------------ Retrieve Sentinel satellite images from GEE ----------------\n",
    "def get_sentinel_composite(collection_id, year, aoi):\n",
    "    collection = (\n",
    "        ee.ImageCollection(collection_id)\n",
    "        .filterBounds(aoi)\n",
    "        .filterDate(f\"{year}-01-01\", f\"{year}-12-31\")\n",
    "        .filter(ee.Filter.lt(\"CLOUDY_PIXEL_PERCENTAGE\", 20))\n",
    "    )\n",
    "    return collection.median().clip(aoi)\n"
   ]
  },
  {
   "cell_type": "markdown",
   "id": "6ba35ae6",
   "metadata": {},
   "source": [
    "##### NDVI \n",
    "This function calculates the NDVI (Normalized Difference Vegetation Index) for a given satellite image."
   ]
  },
  {
   "cell_type": "code",
   "execution_count": 6,
   "id": "9e3a3451",
   "metadata": {},
   "outputs": [],
   "source": [
    "def add_ndvi(image, sensor):\n",
    "    if sensor in [\"L5\", \"L7\"]:  # Landsat 5 or 7\n",
    "        ndvi = image.normalizedDifference([\"SR_B4\", \"SR_B3\"]).rename(\"NDVI\")\n",
    "    elif sensor in [\"L8\", \"L9\"]:  # Landsat 8 or 9\n",
    "        ndvi = image.normalizedDifference([\"SR_B5\", \"SR_B4\"]).rename(\"NDVI\")\n",
    "    elif sensor == \"S2\":  # Sentinel-2\n",
    "        ndvi = image.normalizedDifference([\"B8\", \"B4\"]).rename(\"NDVI\")\n",
    "    else:               # error als niet bekend \n",
    "        raise ValueError(\"Unknown sensor type\")\n",
    "    return image.addBands(ndvi)"
   ]
  }
 ],
 "metadata": {
  "kernelspec": {
   "display_name": "gee-env2",
   "language": "python",
   "name": "python3"
  },
  "language_info": {
   "codemirror_mode": {
    "name": "ipython",
    "version": 3
   },
   "file_extension": ".py",
   "mimetype": "text/x-python",
   "name": "python",
   "nbconvert_exporter": "python",
   "pygments_lexer": "ipython3",
   "version": "3.13.7"
  }
 },
 "nbformat": 4,
 "nbformat_minor": 5
}
