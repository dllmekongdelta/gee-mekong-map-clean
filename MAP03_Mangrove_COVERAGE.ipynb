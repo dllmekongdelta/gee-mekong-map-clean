{
 "cells": [
  {
   "cell_type": "markdown",
   "id": "5b643033",
   "metadata": {},
   "source": [
    "# Mangrove Coverage: 1988-2025\n",
    "The code in this file creates an HTML file that visualizes the mangrove forest coverage from 1988 to 2025 on an interactive Earth Engine map. It adds individual layers for each year of the mangrove extent, allowing the user to view and compare areas of mangrove loss. "
   ]
  },
  {
   "cell_type": "code",
   "execution_count": 40,
   "id": "c4c68fd2",
   "metadata": {},
   "outputs": [
    {
     "data": {
      "text/html": [
       "\n",
       "            <style>\n",
       "                .geemap-dark {\n",
       "                    --jp-widgets-color: white;\n",
       "                    --jp-widgets-label-color: white;\n",
       "                    --jp-ui-font-color1: white;\n",
       "                    --jp-layout-color2: #454545;\n",
       "                    background-color: #383838;\n",
       "                }\n",
       "\n",
       "                .geemap-dark .jupyter-button {\n",
       "                    --jp-layout-color3: #383838;\n",
       "                }\n",
       "\n",
       "                .geemap-colab {\n",
       "                    background-color: var(--colab-primary-surface-color, white);\n",
       "                }\n",
       "\n",
       "                .geemap-colab .jupyter-button {\n",
       "                    --jp-layout-color3: var(--colab-primary-surface-color, white);\n",
       "                }\n",
       "            </style>\n",
       "            "
      ],
      "text/plain": [
       "<IPython.core.display.HTML object>"
      ]
     },
     "metadata": {},
     "output_type": "display_data"
    }
   ],
   "source": [
    "# --- Run underlying python scripts\n",
    "import GEN01_GEE_Authenticate\n",
    "import GEN02_AOI as  aoi_def\n",
    "import GEN03_helper_functions as HF\n",
    "import GEN04_mangrove_layers as ML \n",
    "import GEN05_HTML_layout as HTML \n",
    "import GEN06_shapefiles as shp\n"
   ]
  },
  {
   "cell_type": "code",
   "execution_count": null,
   "id": "b17379c8",
   "metadata": {},
   "outputs": [
    {
     "data": {
      "text/html": [
       "\n",
       "            <style>\n",
       "                .geemap-dark {\n",
       "                    --jp-widgets-color: white;\n",
       "                    --jp-widgets-label-color: white;\n",
       "                    --jp-ui-font-color1: white;\n",
       "                    --jp-layout-color2: #454545;\n",
       "                    background-color: #383838;\n",
       "                }\n",
       "\n",
       "                .geemap-dark .jupyter-button {\n",
       "                    --jp-layout-color3: #383838;\n",
       "                }\n",
       "\n",
       "                .geemap-colab {\n",
       "                    background-color: var(--colab-primary-surface-color, white);\n",
       "                }\n",
       "\n",
       "                .geemap-colab .jupyter-button {\n",
       "                    --jp-layout-color3: var(--colab-primary-surface-color, white);\n",
       "                }\n",
       "            </style>\n",
       "            "
      ],
      "text/plain": [
       "<IPython.core.display.HTML object>"
      ]
     },
     "metadata": {},
     "output_type": "display_data"
    }
   ],
   "source": [
    "import ee, os\n",
    "\n",
    "# --------- Activate this before pushing to GitHub --------------------\n",
    "SERVICE_ACCOUNT = os.environ.get(\"GEE_SERVICE_ACCOUNT\")\n",
    "KEY_FILE = \"key.json\"   # GitHub Actions writes the secret here\n",
    "\n",
    "credentials = ee.ServiceAccountCredentials(SERVICE_ACCOUNT, KEY_FILE)\n",
    "ee.Initialize(credentials)\n",
    "\n",
    "# --------- Activate when using in VS Code --------------------\n",
    "# ee.Authenticate()\n",
    "# ee.Initialize(project=\"gee-mekong-map\")"
   ]
  },
  {
   "cell_type": "code",
   "execution_count": null,
   "id": "8ef52ec1",
   "metadata": {},
   "outputs": [
    {
     "data": {
      "text/html": [
       "\n",
       "            <style>\n",
       "                .geemap-dark {\n",
       "                    --jp-widgets-color: white;\n",
       "                    --jp-widgets-label-color: white;\n",
       "                    --jp-ui-font-color1: white;\n",
       "                    --jp-layout-color2: #454545;\n",
       "                    background-color: #383838;\n",
       "                }\n",
       "\n",
       "                .geemap-dark .jupyter-button {\n",
       "                    --jp-layout-color3: #383838;\n",
       "                }\n",
       "\n",
       "                .geemap-colab {\n",
       "                    background-color: var(--colab-primary-surface-color, white);\n",
       "                }\n",
       "\n",
       "                .geemap-colab .jupyter-button {\n",
       "                    --jp-layout-color3: var(--colab-primary-surface-color, white);\n",
       "                }\n",
       "            </style>\n",
       "            "
      ],
      "text/plain": [
       "<IPython.core.display.HTML object>"
      ]
     },
     "metadata": {},
     "output_type": "display_data"
    }
   ],
   "source": [
    "# ------------- Packages & GEE ------------\n",
    "import ee                                       # Google Earth Engine API for Python\n",
    "import geemap.foliumap as geemap_folium         # Geemap module integrating Folium maps\n",
    "import folium                                   # Interactive mapping library based on Leaflet.js\n",
    "from branca.element import Element              # Low-level HTML/JS elements for Folium/Branca maps\n",
    "import geopandas as gpd                         # Spatial data handling (GeoDataFrames)\n",
    "\n",
    "# small bug fix on GEE initialization\n",
    "geemap_folium.ee_initialize = lambda *args, **kwargs: None\n"
   ]
  },
  {
   "cell_type": "code",
   "execution_count": 43,
   "id": "7a3cbd9d",
   "metadata": {},
   "outputs": [
    {
     "data": {
      "text/html": [
       "\n",
       "            <style>\n",
       "                .geemap-dark {\n",
       "                    --jp-widgets-color: white;\n",
       "                    --jp-widgets-label-color: white;\n",
       "                    --jp-ui-font-color1: white;\n",
       "                    --jp-layout-color2: #454545;\n",
       "                    background-color: #383838;\n",
       "                }\n",
       "\n",
       "                .geemap-dark .jupyter-button {\n",
       "                    --jp-layout-color3: #383838;\n",
       "                }\n",
       "\n",
       "                .geemap-colab {\n",
       "                    background-color: var(--colab-primary-surface-color, white);\n",
       "                }\n",
       "\n",
       "                .geemap-colab .jupyter-button {\n",
       "                    --jp-layout-color3: var(--colab-primary-surface-color, white);\n",
       "                }\n",
       "            </style>\n",
       "            "
      ],
      "text/plain": [
       "<IPython.core.display.HTML object>"
      ]
     },
     "metadata": {},
     "output_type": "display_data"
    }
   ],
   "source": [
    "# Create a folium-based map\n",
    "Map = geemap_folium.Map(center=[9.2, 105.75], zoom=11, initialize=False)\n",
    "\n",
    "# Adds the base satellite image layer on the map\n",
    "Map.add_basemap('SATELLITE')"
   ]
  },
  {
   "cell_type": "code",
   "execution_count": 44,
   "id": "435231d1",
   "metadata": {},
   "outputs": [
    {
     "data": {
      "text/html": [
       "\n",
       "            <style>\n",
       "                .geemap-dark {\n",
       "                    --jp-widgets-color: white;\n",
       "                    --jp-widgets-label-color: white;\n",
       "                    --jp-ui-font-color1: white;\n",
       "                    --jp-layout-color2: #454545;\n",
       "                    background-color: #383838;\n",
       "                }\n",
       "\n",
       "                .geemap-dark .jupyter-button {\n",
       "                    --jp-layout-color3: #383838;\n",
       "                }\n",
       "\n",
       "                .geemap-colab {\n",
       "                    background-color: var(--colab-primary-surface-color, white);\n",
       "                }\n",
       "\n",
       "                .geemap-colab .jupyter-button {\n",
       "                    --jp-layout-color3: var(--colab-primary-surface-color, white);\n",
       "                }\n",
       "            </style>\n",
       "            "
      ],
      "text/plain": [
       "<IPython.core.display.HTML object>"
      ]
     },
     "metadata": {},
     "output_type": "display_data"
    }
   ],
   "source": [
    "# --------------- Dictionary of mangrove coverage masks (updated years) ---------------\n",
    "mangrove_coverage = {\n",
    "    \"Mangrove coverage 1988\": ML.mangrove_1988,\n",
    "    \"Mangrove coverage 1992\": ML.mangrove_1992,\n",
    "    \"Mangrove coverage 1997\": ML.mangrove_1997,\n",
    "    \"Mangrove coverage 2001\": ML.mangrove_2001,\n",
    "    \"Mangrove coverage 2005\": ML.mangrove_2005,\n",
    "    \"Mangrove coverage 2010\": ML.mangrove_2010,\n",
    "    \"Mangrove coverage 2015\": ML.mangrove_2015,\n",
    "    \"Mangrove coverage 2020\": ML.mangrove_2020,\n",
    "    \"Mangrove coverage 2025\": ML.mangrove_2025,\n",
    "}\n",
    "\n",
    "for label, img in mangrove_coverage.items():\n",
    "\n",
    "    # Add to interactive map\n",
    "    Map.addLayer(\n",
    "        img.updateMask(img),\n",
    "        {\"palette\": [ML.color_mangrove_coverage]},\n",
    "        label\n",
    "    )\n"
   ]
  },
  {
   "cell_type": "markdown",
   "id": "15152064",
   "metadata": {},
   "source": [
    "Add legend, scalebar, north arrow, Living Lab logo"
   ]
  },
  {
   "cell_type": "code",
   "execution_count": 45,
   "id": "36a3b653",
   "metadata": {},
   "outputs": [
    {
     "data": {
      "text/html": [
       "\n",
       "            <style>\n",
       "                .geemap-dark {\n",
       "                    --jp-widgets-color: white;\n",
       "                    --jp-widgets-label-color: white;\n",
       "                    --jp-ui-font-color1: white;\n",
       "                    --jp-layout-color2: #454545;\n",
       "                    background-color: #383838;\n",
       "                }\n",
       "\n",
       "                .geemap-dark .jupyter-button {\n",
       "                    --jp-layout-color3: #383838;\n",
       "                }\n",
       "\n",
       "                .geemap-colab {\n",
       "                    background-color: var(--colab-primary-surface-color, white);\n",
       "                }\n",
       "\n",
       "                .geemap-colab .jupyter-button {\n",
       "                    --jp-layout-color3: var(--colab-primary-surface-color, white);\n",
       "                }\n",
       "            </style>\n",
       "            "
      ],
      "text/plain": [
       "<IPython.core.display.HTML object>"
      ]
     },
     "metadata": {},
     "output_type": "display_data"
    },
    {
     "data": {
      "text/plain": [
       "<branca.element.Element at 0x2a1bf5a82d0>"
      ]
     },
     "execution_count": 45,
     "metadata": {},
     "output_type": "execute_result"
    }
   ],
   "source": [
    "# ------- Add legend      --------\n",
    "legend_title = \"Mangrove Coverage Map (1988-2025)\"\n",
    "\n",
    "HTML.add_folium_legend(Map, legend_title, HTML.legend_dict_mangrove_COVERAGE, style=HTML.style)\n",
    "\n",
    "# ------- Add scalebar     -------\n",
    "Map.add_child(HTML.ScaleBar(font_size=\"14px\"))\n",
    "\n",
    "# ------- Add north arrow --------\n",
    "HTML.add_north_arrow(Map, position=\"bottomleft\", arrow_size=\"35px\", text_size=\"25px\")\n",
    "\n",
    "# ------- Add Living LAb logo -----\n",
    "Map.get_root().html.add_child(folium.Element(HTML.logo_html))"
   ]
  },
  {
   "cell_type": "markdown",
   "id": "877abed4",
   "metadata": {},
   "source": [
    "Add shapefiles"
   ]
  },
  {
   "cell_type": "code",
   "execution_count": 46,
   "id": "83b5172e",
   "metadata": {},
   "outputs": [
    {
     "data": {
      "text/html": [
       "\n",
       "            <style>\n",
       "                .geemap-dark {\n",
       "                    --jp-widgets-color: white;\n",
       "                    --jp-widgets-label-color: white;\n",
       "                    --jp-ui-font-color1: white;\n",
       "                    --jp-layout-color2: #454545;\n",
       "                    background-color: #383838;\n",
       "                }\n",
       "\n",
       "                .geemap-dark .jupyter-button {\n",
       "                    --jp-layout-color3: #383838;\n",
       "                }\n",
       "\n",
       "                .geemap-colab {\n",
       "                    background-color: var(--colab-primary-surface-color, white);\n",
       "                }\n",
       "\n",
       "                .geemap-colab .jupyter-button {\n",
       "                    --jp-layout-color3: var(--colab-primary-surface-color, white);\n",
       "                }\n",
       "            </style>\n",
       "            "
      ],
      "text/plain": [
       "<IPython.core.display.HTML object>"
      ]
     },
     "metadata": {},
     "output_type": "display_data"
    },
    {
     "data": {
      "text/plain": [
       "<folium.map.LayerControl at 0x2a1bed95ae0>"
      ]
     },
     "execution_count": 46,
     "metadata": {},
     "output_type": "execute_result"
    }
   ],
   "source": [
    "# Add the commune boundaries to the map\n",
    "folium.GeoJson(\n",
    "    shp.geojson_commune,\n",
    "    name=\"Commune boundaries\",\n",
    "    style_function=shp.commune_style,\n",
    "    ).add_to(Map)\n",
    "\n",
    "#  Add the sea dikes group to the map\n",
    "shp.sea_dikes_group.add_to(Map)\n",
    "\n",
    "# Add the breakwater group to the map\n",
    "shp.breakwaters_group.add_to(Map)\n",
    "\n",
    "# other human activities\n",
    "shp.Extra_group.add_to(Map)\n",
    "folium.LayerControl().add_to(Map)   "
   ]
  },
  {
   "cell_type": "code",
   "execution_count": 47,
   "id": "95e5fc3f",
   "metadata": {},
   "outputs": [
    {
     "data": {
      "text/html": [
       "\n",
       "            <style>\n",
       "                .geemap-dark {\n",
       "                    --jp-widgets-color: white;\n",
       "                    --jp-widgets-label-color: white;\n",
       "                    --jp-ui-font-color1: white;\n",
       "                    --jp-layout-color2: #454545;\n",
       "                    background-color: #383838;\n",
       "                }\n",
       "\n",
       "                .geemap-dark .jupyter-button {\n",
       "                    --jp-layout-color3: #383838;\n",
       "                }\n",
       "\n",
       "                .geemap-colab {\n",
       "                    background-color: var(--colab-primary-surface-color, white);\n",
       "                }\n",
       "\n",
       "                .geemap-colab .jupyter-button {\n",
       "                    --jp-layout-color3: var(--colab-primary-surface-color, white);\n",
       "                }\n",
       "            </style>\n",
       "            "
      ],
      "text/plain": [
       "<IPython.core.display.HTML object>"
      ]
     },
     "metadata": {},
     "output_type": "display_data"
    }
   ],
   "source": [
    "Map.to_html(\"Mangrove_COVERAGE_map.html\")\n"
   ]
  }
 ],
 "metadata": {
  "kernelspec": {
   "display_name": "gee-env2",
   "language": "python",
   "name": "python3"
  },
  "language_info": {
   "codemirror_mode": {
    "name": "ipython",
    "version": 3
   },
   "file_extension": ".py",
   "mimetype": "text/x-python",
   "name": "python",
   "nbconvert_exporter": "python",
   "pygments_lexer": "ipython3",
   "version": "3.13.7"
  }
 },
 "nbformat": 4,
 "nbformat_minor": 5
}
