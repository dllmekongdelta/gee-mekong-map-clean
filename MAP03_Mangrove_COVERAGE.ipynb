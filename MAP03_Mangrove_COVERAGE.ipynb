{
 "cells": [
  {
   "cell_type": "markdown",
   "id": "5b643033",
   "metadata": {},
   "source": [
    "# Mangrove Coverage: 1988-2024\n",
    "The code in this file creates an HTML file that visualizes the mangrove forest coverage from 1988 to 2024 on an interactive Earth Engine map. It adds individual layers for each year of the mangrove extent, allowing the user to view and compare areas of mangrove loss. "
   ]
  },
  {
   "cell_type": "code",
   "execution_count": 23,
   "id": "c4c68fd2",
   "metadata": {},
   "outputs": [
    {
     "data": {
      "text/html": [
       "\n",
       "            <style>\n",
       "                .geemap-dark {\n",
       "                    --jp-widgets-color: white;\n",
       "                    --jp-widgets-label-color: white;\n",
       "                    --jp-ui-font-color1: white;\n",
       "                    --jp-layout-color2: #454545;\n",
       "                    background-color: #383838;\n",
       "                }\n",
       "\n",
       "                .geemap-dark .jupyter-button {\n",
       "                    --jp-layout-color3: #383838;\n",
       "                }\n",
       "\n",
       "                .geemap-colab {\n",
       "                    background-color: var(--colab-primary-surface-color, white);\n",
       "                }\n",
       "\n",
       "                .geemap-colab .jupyter-button {\n",
       "                    --jp-layout-color3: var(--colab-primary-surface-color, white);\n",
       "                }\n",
       "            </style>\n",
       "            "
      ],
      "text/plain": [
       "<IPython.core.display.HTML object>"
      ]
     },
     "metadata": {},
     "output_type": "display_data"
    }
   ],
   "source": [
    "# --- Run underlying python scripts\n",
    "import GEN01_GEE_Authenticate\n",
    "import GEN02_AOI as  aoi_def\n",
    "import GEN03_helper_functions as HF\n",
    "import GEN04_mangrove_layers as ML \n",
    "import GEN05_HTML_layout as HTML \n",
    "import GEN06_shapefiles as shp\n"
   ]
  },
  {
   "cell_type": "code",
   "execution_count": 24,
   "id": "b17379c8",
   "metadata": {},
   "outputs": [
    {
     "data": {
      "text/html": [
       "\n",
       "            <style>\n",
       "                .geemap-dark {\n",
       "                    --jp-widgets-color: white;\n",
       "                    --jp-widgets-label-color: white;\n",
       "                    --jp-ui-font-color1: white;\n",
       "                    --jp-layout-color2: #454545;\n",
       "                    background-color: #383838;\n",
       "                }\n",
       "\n",
       "                .geemap-dark .jupyter-button {\n",
       "                    --jp-layout-color3: #383838;\n",
       "                }\n",
       "\n",
       "                .geemap-colab {\n",
       "                    background-color: var(--colab-primary-surface-color, white);\n",
       "                }\n",
       "\n",
       "                .geemap-colab .jupyter-button {\n",
       "                    --jp-layout-color3: var(--colab-primary-surface-color, white);\n",
       "                }\n",
       "            </style>\n",
       "            "
      ],
      "text/plain": [
       "<IPython.core.display.HTML object>"
      ]
     },
     "metadata": {},
     "output_type": "display_data"
    }
   ],
   "source": [
    "import ee, os\n",
    "\n",
    "# SERVICE_ACCOUNT = os.environ.get(\"GEE_SERVICE_ACCOUNT\")\n",
    "# KEY_FILE = \"key.json\"   # GitHub Actions writes the secret here\n",
    "\n",
    "# credentials = ee.ServiceAccountCredentials(SERVICE_ACCOUNT, KEY_FILE)\n",
    "# ee.Initialize(credentials)\n",
    "\n",
    "# print(\"✅ Earth Engine initialized with Service Account\")\n",
    "\n",
    "ee.Authenticate()\n",
    "ee.Initialize(project=\"gee-mekong-map\")"
   ]
  },
  {
   "cell_type": "code",
   "execution_count": 25,
   "id": "8ef52ec1",
   "metadata": {},
   "outputs": [
    {
     "data": {
      "text/html": [
       "\n",
       "            <style>\n",
       "                .geemap-dark {\n",
       "                    --jp-widgets-color: white;\n",
       "                    --jp-widgets-label-color: white;\n",
       "                    --jp-ui-font-color1: white;\n",
       "                    --jp-layout-color2: #454545;\n",
       "                    background-color: #383838;\n",
       "                }\n",
       "\n",
       "                .geemap-dark .jupyter-button {\n",
       "                    --jp-layout-color3: #383838;\n",
       "                }\n",
       "\n",
       "                .geemap-colab {\n",
       "                    background-color: var(--colab-primary-surface-color, white);\n",
       "                }\n",
       "\n",
       "                .geemap-colab .jupyter-button {\n",
       "                    --jp-layout-color3: var(--colab-primary-surface-color, white);\n",
       "                }\n",
       "            </style>\n",
       "            "
      ],
      "text/plain": [
       "<IPython.core.display.HTML object>"
      ]
     },
     "metadata": {},
     "output_type": "display_data"
    }
   ],
   "source": [
    "# ------------- Packages & GEE ------------\n",
    "import ee                                       # Google Earth Engine API for Python\n",
    "import geemap.foliumap as geemap_folium         # Geemap module integrating Folium maps\n",
    "import folium                                   # Interactive mapping library based on Leaflet.js\n",
    "import geemap                                   # Toolkit for working with Google Earth Engine in Python\n",
    "from geemap import cartoee                      # Module for exporting and visualizing Earth Engine maps using Matplotlib\n",
    "import ipyleaflet                               # Interactive maps in Jupyter using Leaflet\n",
    "import ipywidgets as widgets                    # Interactive UI controls for Jupyter notebooks\n",
    "from branca.element import Element              # Low-level HTML/JS elements for Folium/Branca maps\n",
    "import geopandas as gpd                         # Spatial data handling (GeoDataFrames)\n",
    "import glob                                     # File pattern matching (e.g., list all .tif files in a folder)\n",
    "import json                                     # JSON encoding and decoding (read/write .json files)\n"
   ]
  },
  {
   "cell_type": "code",
   "execution_count": 26,
   "id": "7a3cbd9d",
   "metadata": {},
   "outputs": [
    {
     "data": {
      "text/html": [
       "\n",
       "            <style>\n",
       "                .geemap-dark {\n",
       "                    --jp-widgets-color: white;\n",
       "                    --jp-widgets-label-color: white;\n",
       "                    --jp-ui-font-color1: white;\n",
       "                    --jp-layout-color2: #454545;\n",
       "                    background-color: #383838;\n",
       "                }\n",
       "\n",
       "                .geemap-dark .jupyter-button {\n",
       "                    --jp-layout-color3: #383838;\n",
       "                }\n",
       "\n",
       "                .geemap-colab {\n",
       "                    background-color: var(--colab-primary-surface-color, white);\n",
       "                }\n",
       "\n",
       "                .geemap-colab .jupyter-button {\n",
       "                    --jp-layout-color3: var(--colab-primary-surface-color, white);\n",
       "                }\n",
       "            </style>\n",
       "            "
      ],
      "text/plain": [
       "<IPython.core.display.HTML object>"
      ]
     },
     "metadata": {},
     "output_type": "display_data"
    }
   ],
   "source": [
    "# Create a folium-based map\n",
    "Map = geemap_folium.Map(center=[9.2, 105.75], zoom=11)\n",
    "\n",
    "\n",
    "# # Add Sentinel-2 as basemap (true color RGB)\n",
    "# Map.addLayer(\n",
    "#     ML.sentinel,\n",
    "#     {\"bands\": [\"B4\", \"B3\", \"B2\"], \"min\": 0, \"max\": 3000},\n",
    "#     \"Sentinel-2 (2024)\"\n",
    "# )\n",
    "\n",
    "# s2 = ee.ImageCollection(\"COPERNICUS/S2_SR_HARMONIZED\") \\\n",
    "#     .filterDate(\"2024-01-01\", \"2024-12-31\") \\\n",
    "#     .filterBounds(aoi_def.aoi) \\\n",
    "#     .filter(ee.Filter.lt(\"CLOUDY_PIXEL_PERCENTAGE\", 10)) \\\n",
    "#     .median()\n",
    "\n",
    "Map.add_basemap('SATELLITE')\n",
    "\n",
    "\n",
    "# Map.addLayer(s2, {\"bands\": [\"B4\", \"B3\", \"B2\"], \"min\": 300, \"max\": 2500}, \"Sentinel-2 SR (2024)\")\n"
   ]
  },
  {
   "cell_type": "code",
   "execution_count": 27,
   "id": "435231d1",
   "metadata": {},
   "outputs": [
    {
     "data": {
      "text/html": [
       "\n",
       "            <style>\n",
       "                .geemap-dark {\n",
       "                    --jp-widgets-color: white;\n",
       "                    --jp-widgets-label-color: white;\n",
       "                    --jp-ui-font-color1: white;\n",
       "                    --jp-layout-color2: #454545;\n",
       "                    background-color: #383838;\n",
       "                }\n",
       "\n",
       "                .geemap-dark .jupyter-button {\n",
       "                    --jp-layout-color3: #383838;\n",
       "                }\n",
       "\n",
       "                .geemap-colab {\n",
       "                    background-color: var(--colab-primary-surface-color, white);\n",
       "                }\n",
       "\n",
       "                .geemap-colab .jupyter-button {\n",
       "                    --jp-layout-color3: var(--colab-primary-surface-color, white);\n",
       "                }\n",
       "            </style>\n",
       "            "
      ],
      "text/plain": [
       "<IPython.core.display.HTML object>"
      ]
     },
     "metadata": {},
     "output_type": "display_data"
    }
   ],
   "source": [
    "# --------------- Dictionary of mangrove coverage masks (updated years) ---------------\n",
    "mangrove_coverage = {\n",
    "    \"Mangrove coverage 1988\": ML.mangrove_1988,\n",
    "    \"Mangrove coverage 1992\": ML.mangrove_1992,\n",
    "    \"Mangrove coverage 1997\": ML.mangrove_1997,\n",
    "    \"Mangrove coverage 2001\": ML.mangrove_2001,\n",
    "    \"Mangrove coverage 2005\": ML.mangrove_2005,\n",
    "    \"Mangrove coverage 2010\": ML.mangrove_2010,\n",
    "    \"Mangrove coverage 2015\": ML.mangrove_2015,\n",
    "    \"Mangrove coverage 2020\": ML.mangrove_2020,\n",
    "    \"Mangrove coverage 2024\": ML.mangrove_2024,\n",
    "}\n",
    "\n",
    "# --------------- Add mangrove coverage layers and generate tile URLs -----------------\n",
    "mangrove_coverage_layers = {}\n",
    "\n",
    "for label, img in mangrove_coverage.items():\n",
    "    # Add to interactive map\n",
    "    Map.addLayer(\n",
    "        img.updateMask(img),\n",
    "        {\"palette\": [ML.color_mangrove_coverage]},\n",
    "        label\n",
    "    )\n",
    "\n",
    "#     # Generate Earth Engine tile URL\n",
    "#     tile_url = img.getMapId({\"palette\": [color_mangrove]})[\"tile_fetcher\"].url_format\n",
    "#     mangrove_coverage_layers[label] = tile_url\n",
    "\n",
    "# # (Optional) Export all tile URLs to a JSON file\n",
    "# import json\n",
    "# with open(\"mangrove_coverage_layers.json\", \"w\") as f:\n",
    "#     json.dump(mangrove_coverage_layers, f, indent=4)\n"
   ]
  },
  {
   "cell_type": "code",
   "execution_count": 28,
   "id": "36a3b653",
   "metadata": {},
   "outputs": [
    {
     "data": {
      "text/html": [
       "\n",
       "            <style>\n",
       "                .geemap-dark {\n",
       "                    --jp-widgets-color: white;\n",
       "                    --jp-widgets-label-color: white;\n",
       "                    --jp-ui-font-color1: white;\n",
       "                    --jp-layout-color2: #454545;\n",
       "                    background-color: #383838;\n",
       "                }\n",
       "\n",
       "                .geemap-dark .jupyter-button {\n",
       "                    --jp-layout-color3: #383838;\n",
       "                }\n",
       "\n",
       "                .geemap-colab {\n",
       "                    background-color: var(--colab-primary-surface-color, white);\n",
       "                }\n",
       "\n",
       "                .geemap-colab .jupyter-button {\n",
       "                    --jp-layout-color3: var(--colab-primary-surface-color, white);\n",
       "                }\n",
       "            </style>\n",
       "            "
      ],
      "text/plain": [
       "<IPython.core.display.HTML object>"
      ]
     },
     "metadata": {},
     "output_type": "display_data"
    },
    {
     "data": {
      "text/plain": [
       "<branca.element.Element at 0x1f6513705d0>"
      ]
     },
     "execution_count": 28,
     "metadata": {},
     "output_type": "execute_result"
    }
   ],
   "source": [
    "# ------- Add legend      --------\n",
    "legend_title = \"Mangrove Coverage Map (1988-2024)\"\n",
    "\n",
    "HTML.add_folium_legend(Map, legend_title, HTML.legend_dict_mangrove_COVERAGE, style=HTML.style)\n",
    "\n",
    "# ------- Add scalebar     -------\n",
    "Map.add_child(HTML.ScaleBar(font_size=\"14px\"))\n",
    "\n",
    "# ------- Add north arrow --------\n",
    "HTML.add_north_arrow(Map, position=\"bottomleft\", arrow_size=\"35px\", text_size=\"25px\")\n",
    "\n",
    "# ------- Add Living LAb logo -----\n",
    "Map.get_root().html.add_child(folium.Element(HTML.logo_html))"
   ]
  },
  {
   "cell_type": "code",
   "execution_count": 29,
   "id": "83b5172e",
   "metadata": {},
   "outputs": [
    {
     "data": {
      "text/html": [
       "\n",
       "            <style>\n",
       "                .geemap-dark {\n",
       "                    --jp-widgets-color: white;\n",
       "                    --jp-widgets-label-color: white;\n",
       "                    --jp-ui-font-color1: white;\n",
       "                    --jp-layout-color2: #454545;\n",
       "                    background-color: #383838;\n",
       "                }\n",
       "\n",
       "                .geemap-dark .jupyter-button {\n",
       "                    --jp-layout-color3: #383838;\n",
       "                }\n",
       "\n",
       "                .geemap-colab {\n",
       "                    background-color: var(--colab-primary-surface-color, white);\n",
       "                }\n",
       "\n",
       "                .geemap-colab .jupyter-button {\n",
       "                    --jp-layout-color3: var(--colab-primary-surface-color, white);\n",
       "                }\n",
       "            </style>\n",
       "            "
      ],
      "text/plain": [
       "<IPython.core.display.HTML object>"
      ]
     },
     "metadata": {},
     "output_type": "display_data"
    },
    {
     "data": {
      "text/plain": [
       "<folium.map.LayerControl at 0x1f6484a56d0>"
      ]
     },
     "execution_count": 29,
     "metadata": {},
     "output_type": "execute_result"
    }
   ],
   "source": [
    "# Add the commune boundaries to the map\n",
    "folium.GeoJson(\n",
    "    shp.geojson_commune,\n",
    "    name=\"Commune boundaries\",\n",
    "    style_function=shp.commune_style,\n",
    "    ).add_to(Map)\n",
    "\n",
    "\n",
    "#  Add the sea dikes group to the map\n",
    "shp.sea_dikes_group.add_to(Map)\n",
    "\n",
    "\n",
    "# Add the breakwater group to the map\n",
    "shp.breakwaters_group.add_to(Map)\n",
    "\n",
    "# other human activities\n",
    "shp.Extra_group.add_to(Map)\n",
    "folium.LayerControl().add_to(Map)   "
   ]
  },
  {
   "cell_type": "code",
   "execution_count": null,
   "id": "95e5fc3f",
   "metadata": {},
   "outputs": [
    {
     "data": {
      "text/html": [
       "\n",
       "            <style>\n",
       "                .geemap-dark {\n",
       "                    --jp-widgets-color: white;\n",
       "                    --jp-widgets-label-color: white;\n",
       "                    --jp-ui-font-color1: white;\n",
       "                    --jp-layout-color2: #454545;\n",
       "                    background-color: #383838;\n",
       "                }\n",
       "\n",
       "                .geemap-dark .jupyter-button {\n",
       "                    --jp-layout-color3: #383838;\n",
       "                }\n",
       "\n",
       "                .geemap-colab {\n",
       "                    background-color: var(--colab-primary-surface-color, white);\n",
       "                }\n",
       "\n",
       "                .geemap-colab .jupyter-button {\n",
       "                    --jp-layout-color3: var(--colab-primary-surface-color, white);\n",
       "                }\n",
       "            </style>\n",
       "            "
      ],
      "text/plain": [
       "<IPython.core.display.HTML object>"
      ]
     },
     "metadata": {},
     "output_type": "display_data"
    }
   ],
   "source": [
    "Map.to_html(\"Mangrove_COVERAGE_map.html\")\n"
   ]
  }
 ],
 "metadata": {
  "kernelspec": {
   "display_name": "gee-env2",
   "language": "python",
   "name": "python3"
  },
  "language_info": {
   "codemirror_mode": {
    "name": "ipython",
    "version": 3
   },
   "file_extension": ".py",
   "mimetype": "text/x-python",
   "name": "python",
   "nbconvert_exporter": "python",
   "pygments_lexer": "ipython3",
   "version": "3.13.7"
  }
 },
 "nbformat": 4,
 "nbformat_minor": 5
}
