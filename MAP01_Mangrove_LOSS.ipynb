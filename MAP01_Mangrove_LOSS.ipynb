{
 "cells": [
  {
   "cell_type": "markdown",
   "id": "7ed5bb96",
   "metadata": {},
   "source": [
    "# Mangrove Loss: 1988 - 2024\n",
    "The code in this file creates an HTML file that visualizes the loss in mangrove forest coverage from 1988 to 2024 on an interactive Earth Engine map. It adds individual layers for each year of the mangrove extent, allowing the user to view and compare areas of mangrove loss. "
   ]
  },
  {
   "cell_type": "code",
   "execution_count": null,
   "id": "88e79e58",
   "metadata": {},
   "outputs": [],
   "source": [
    "# --- Run underlying python scripts\n",
    "import GEN01_GEE_Authenticate\n",
    "import GEN02_AOI as  aoi_def\n",
    "import GEN03_helper_functions as HF\n",
    "import GEN04_mangrove_layers as ML \n",
    "import GEN05_HTML_layout as HTML \n",
    "import GEN06_shapefiles as shp\n"
   ]
  },
  {
   "cell_type": "code",
   "execution_count": 4,
   "id": "8f27f77d",
   "metadata": {},
   "outputs": [],
   "source": [
    "import ee, os\n",
    "\n",
    "\n",
    "# SERVICE_ACCOUNT = os.environ.get(\"GEE_SERVICE_ACCOUNT\")\n",
    "# KEY_FILE = \"key.json\"   # GitHub Actions writes the secret here\n",
    "\n",
    "# credentials = ee.ServiceAccountCredentials(SERVICE_ACCOUNT, KEY_FILE)\n",
    "# ee.Initialize(credentials)\n",
    "\n",
    "\n",
    "ee.Authenticate()\n",
    "ee.Initialize(project=\"gee-mekong-map\")"
   ]
  },
  {
   "cell_type": "code",
   "execution_count": 5,
   "id": "36bb7b88",
   "metadata": {},
   "outputs": [],
   "source": [
    "# ------------- Packages & GEE ------------\n",
    "import ee                                       # Google Earth Engine API for Python\n",
    "import geemap.foliumap as geemap_folium         # Geemap module integrating Folium maps\n",
    "import folium                                   # Interactive mapping library based on Leaflet.js\n",
    "import geemap                                   # Toolkit for working with Google Earth Engine in Python\n",
    "from geemap import cartoee                      # Module for exporting and visualizing Earth Engine maps using Matplotlib\n",
    "import ipyleaflet                               # Interactive maps in Jupyter using Leaflet\n",
    "import ipywidgets as widgets                    # Interactive UI controls for Jupyter notebooks\n",
    "from branca.element import Element              # Low-level HTML/JS elements for Folium/Branca maps\n",
    "import geopandas as gpd                         # Spatial data handling (GeoDataFrames)\n",
    "import glob                                     # File pattern matching (e.g., list all .tif files in a folder)\n",
    "import json                                     # JSON encoding and decoding (read/write .json files)\n"
   ]
  },
  {
   "cell_type": "code",
   "execution_count": null,
   "id": "d34a9104",
   "metadata": {},
   "outputs": [
    {
     "data": {
      "text/html": [
       "\n",
       "            <style>\n",
       "                .geemap-dark {\n",
       "                    --jp-widgets-color: white;\n",
       "                    --jp-widgets-label-color: white;\n",
       "                    --jp-ui-font-color1: white;\n",
       "                    --jp-layout-color2: #454545;\n",
       "                    background-color: #383838;\n",
       "                }\n",
       "\n",
       "                .geemap-dark .jupyter-button {\n",
       "                    --jp-layout-color3: #383838;\n",
       "                }\n",
       "\n",
       "                .geemap-colab {\n",
       "                    background-color: var(--colab-primary-surface-color, white);\n",
       "                }\n",
       "\n",
       "                .geemap-colab .jupyter-button {\n",
       "                    --jp-layout-color3: var(--colab-primary-surface-color, white);\n",
       "                }\n",
       "            </style>\n",
       "            "
      ],
      "text/plain": [
       "<IPython.core.display.HTML object>"
      ]
     },
     "metadata": {},
     "output_type": "display_data"
    }
   ],
   "source": [
    "# Mangrove loss = 2010 mangroves not present in 2015\n",
    "# ------------- Calculate mangrove loss per time interval -------------\n",
    "loss_1988_1992 = ML.mangrove_1988.And(ML.mangrove_1992.Not())\n",
    "loss_1992_1997 = ML.mangrove_1992.And(ML.mangrove_1997.Not())\n",
    "loss_1997_2001 = ML.mangrove_1997.And(ML.mangrove_2001.Not())\n",
    "loss_2001_2005 = ML.mangrove_2001.And(ML.mangrove_2005.Not())\n",
    "loss_2005_2010 = ML.mangrove_2005.And(ML.mangrove_2010.Not())\n",
    "loss_2010_2015 = ML.mangrove_2010.And(ML.mangrove_2015.Not())\n",
    "loss_2015_2020 = ML.mangrove_2015.And(ML.mangrove_2020.Not())\n",
    "loss_2020_2024 = ML.mangrove_2020.And(ML.mangrove_2024.Not())\n",
    "\n",
    "geemap_folium.ee_initialize = lambda *args, **kwargs: None\n",
    "\n",
    "\n",
    "Map = geemap_folium.Map(center=[9.2, 105.75], zoom=11, initialize=False)\n",
    "\n",
    "\n",
    "Map.add_basemap('SATELLITE')\n",
    "\n"
   ]
  },
  {
   "cell_type": "code",
   "execution_count": 7,
   "id": "68670ddd",
   "metadata": {},
   "outputs": [
    {
     "data": {
      "text/html": [
       "\n",
       "            <style>\n",
       "                .geemap-dark {\n",
       "                    --jp-widgets-color: white;\n",
       "                    --jp-widgets-label-color: white;\n",
       "                    --jp-ui-font-color1: white;\n",
       "                    --jp-layout-color2: #454545;\n",
       "                    background-color: #383838;\n",
       "                }\n",
       "\n",
       "                .geemap-dark .jupyter-button {\n",
       "                    --jp-layout-color3: #383838;\n",
       "                }\n",
       "\n",
       "                .geemap-colab {\n",
       "                    background-color: var(--colab-primary-surface-color, white);\n",
       "                }\n",
       "\n",
       "                .geemap-colab .jupyter-button {\n",
       "                    --jp-layout-color3: var(--colab-primary-surface-color, white);\n",
       "                }\n",
       "            </style>\n",
       "            "
      ],
      "text/plain": [
       "<IPython.core.display.HTML object>"
      ]
     },
     "metadata": {},
     "output_type": "display_data"
    }
   ],
   "source": [
    "# ------------- Add loss layers with palette and generate tile URLs -------------\n",
    "loss_layers = {\n",
    "    \"Mangrove loss (1988-1992)\": (loss_1988_1992, ML.color_1988_1992_loss),\n",
    "    \"Mangrove loss (1992-1997)\": (loss_1992_1997, ML.color_1992_1997_loss),\n",
    "    \"Mangrove loss (1997-2001)\": (loss_1997_2001, ML.color_1997_2001_loss),\n",
    "    \"Mangrove loss (2001-2005)\": (loss_2001_2005, ML.color_2001_2005_loss),\n",
    "    \"Mangrove loss (2005-2010)\": (loss_2005_2010, ML.color_2005_2010_loss),\n",
    "    \"Mangrove loss (2010-2015)\": (loss_2010_2015, ML.color_2010_2015_loss),\n",
    "    \"Mangrove loss (2015-2020)\": (loss_2015_2020, ML.color_2015_2020_loss),\n",
    "    \"Mangrove loss (2020-2024)\": (loss_2020_2024, ML.color_2020_2024_loss),\n",
    "}\n",
    "\n",
    "# -------------- Add loss maps -----------------\n",
    "Map.addLayer(loss_1988_1992.updateMask(loss_1988_1992), {\"palette\": [ML.color_1988_1992_loss]}, \"Mangrove loss (1988-1992)\")\n",
    "Map.addLayer(loss_1992_1997.updateMask(loss_1992_1997), {\"palette\": [ML.color_1992_1997_loss]}, \"Mangrove loss (1992-1997)\")\n",
    "Map.addLayer(loss_1997_2001.updateMask(loss_1997_2001), {\"palette\": [ML.color_1997_2001_loss]}, \"Mangrove loss (1997-2001)\")\n",
    "Map.addLayer(loss_2001_2005.updateMask(loss_2001_2005), {\"palette\": [ML.color_2001_2005_loss]}, \"Mangrove loss (2001-2005)\")\n",
    "Map.addLayer(loss_2005_2010.updateMask(loss_2005_2010), {\"palette\": [ML.color_2005_2010_loss]}, \"Mangrove loss (2005-2010)\")\n",
    "Map.addLayer(loss_2010_2015.updateMask(loss_2010_2015), {\"palette\": [ML.color_2010_2015_loss]}, \"Mangrove loss (2010-2015)\")\n",
    "Map.addLayer(loss_2015_2020.updateMask(loss_2015_2020), {\"palette\": [ML.color_2015_2020_loss]}, \"Mangrove loss (2015-2020)\")\n",
    "Map.addLayer(loss_2020_2024.updateMask(loss_2020_2024), {\"palette\": [ML.color_2020_2024_loss]}, \"Mangrove loss (2020-2024)\")\n"
   ]
  },
  {
   "cell_type": "code",
   "execution_count": null,
   "id": "7e93cdd7",
   "metadata": {},
   "outputs": [],
   "source": [
    "\n"
   ]
  },
  {
   "cell_type": "code",
   "execution_count": 8,
   "id": "d51124f7",
   "metadata": {},
   "outputs": [
    {
     "data": {
      "text/html": [
       "\n",
       "            <style>\n",
       "                .geemap-dark {\n",
       "                    --jp-widgets-color: white;\n",
       "                    --jp-widgets-label-color: white;\n",
       "                    --jp-ui-font-color1: white;\n",
       "                    --jp-layout-color2: #454545;\n",
       "                    background-color: #383838;\n",
       "                }\n",
       "\n",
       "                .geemap-dark .jupyter-button {\n",
       "                    --jp-layout-color3: #383838;\n",
       "                }\n",
       "\n",
       "                .geemap-colab {\n",
       "                    background-color: var(--colab-primary-surface-color, white);\n",
       "                }\n",
       "\n",
       "                .geemap-colab .jupyter-button {\n",
       "                    --jp-layout-color3: var(--colab-primary-surface-color, white);\n",
       "                }\n",
       "            </style>\n",
       "            "
      ],
      "text/plain": [
       "<IPython.core.display.HTML object>"
      ]
     },
     "metadata": {},
     "output_type": "display_data"
    }
   ],
   "source": [
    "# for name, (layer, color) in loss_layers.items():\n",
    "#     vis = {\"palette\": [color]}\n",
    "#     Map.addLayer(layer.updateMask(layer), vis, name)\n",
    "#     tile_urls[name] = generate_tile_url(layer, vis)\n",
    "\n",
    "# # Save tile URLs to JSON\n",
    "# with open(\"tile_urls.json\", \"w\") as f:\n",
    "#     json.dump(tile_urls, f, indent=2)\n",
    "  \n"
   ]
  },
  {
   "cell_type": "markdown",
   "id": "dd7fc2d3",
   "metadata": {},
   "source": [
    "Add legend, scalebar, north arrow, Living Lab logo"
   ]
  },
  {
   "cell_type": "code",
   "execution_count": 9,
   "id": "a3680b77",
   "metadata": {},
   "outputs": [
    {
     "data": {
      "text/html": [
       "\n",
       "            <style>\n",
       "                .geemap-dark {\n",
       "                    --jp-widgets-color: white;\n",
       "                    --jp-widgets-label-color: white;\n",
       "                    --jp-ui-font-color1: white;\n",
       "                    --jp-layout-color2: #454545;\n",
       "                    background-color: #383838;\n",
       "                }\n",
       "\n",
       "                .geemap-dark .jupyter-button {\n",
       "                    --jp-layout-color3: #383838;\n",
       "                }\n",
       "\n",
       "                .geemap-colab {\n",
       "                    background-color: var(--colab-primary-surface-color, white);\n",
       "                }\n",
       "\n",
       "                .geemap-colab .jupyter-button {\n",
       "                    --jp-layout-color3: var(--colab-primary-surface-color, white);\n",
       "                }\n",
       "            </style>\n",
       "            "
      ],
      "text/plain": [
       "<IPython.core.display.HTML object>"
      ]
     },
     "metadata": {},
     "output_type": "display_data"
    },
    {
     "data": {
      "text/plain": [
       "<branca.element.Element at 0x25dec3b4150>"
      ]
     },
     "execution_count": 9,
     "metadata": {},
     "output_type": "execute_result"
    }
   ],
   "source": [
    "# ------- Add legend      --------\n",
    "legend_title = \"Mangrove Loss Map (1988-2024)\"\n",
    "HTML.add_folium_legend(Map, legend_title, HTML.legend_dict_mangrove_LOSS, style=HTML.style)\n",
    "\n",
    "# ------- Add scalebar     -------\n",
    "Map.add_child(HTML.ScaleBar(font_size=\"14px\"))\n",
    "\n",
    "# ------- Add north arrow --------\n",
    "HTML.add_north_arrow(Map, position=\"bottomleft\", arrow_size=\"35px\", text_size=\"25px\")\n",
    "\n",
    "# ------- Add Living LAb logo -----\n",
    "Map.get_root().html.add_child(folium.Element(HTML.logo_html))"
   ]
  },
  {
   "cell_type": "markdown",
   "id": "a9ae8ba2",
   "metadata": {},
   "source": [
    "Add shapefiles"
   ]
  },
  {
   "cell_type": "code",
   "execution_count": 10,
   "id": "b68d7517",
   "metadata": {},
   "outputs": [
    {
     "data": {
      "text/html": [
       "\n",
       "            <style>\n",
       "                .geemap-dark {\n",
       "                    --jp-widgets-color: white;\n",
       "                    --jp-widgets-label-color: white;\n",
       "                    --jp-ui-font-color1: white;\n",
       "                    --jp-layout-color2: #454545;\n",
       "                    background-color: #383838;\n",
       "                }\n",
       "\n",
       "                .geemap-dark .jupyter-button {\n",
       "                    --jp-layout-color3: #383838;\n",
       "                }\n",
       "\n",
       "                .geemap-colab {\n",
       "                    background-color: var(--colab-primary-surface-color, white);\n",
       "                }\n",
       "\n",
       "                .geemap-colab .jupyter-button {\n",
       "                    --jp-layout-color3: var(--colab-primary-surface-color, white);\n",
       "                }\n",
       "            </style>\n",
       "            "
      ],
      "text/plain": [
       "<IPython.core.display.HTML object>"
      ]
     },
     "metadata": {},
     "output_type": "display_data"
    },
    {
     "data": {
      "text/plain": [
       "<folium.map.LayerControl at 0x25dec3a42f0>"
      ]
     },
     "execution_count": 10,
     "metadata": {},
     "output_type": "execute_result"
    }
   ],
   "source": [
    "# Add the commune boundaries to the map\n",
    "folium.GeoJson(\n",
    "    shp.geojson_commune,\n",
    "    name=\"Commune boundaries\",\n",
    "    style_function=shp.commune_style,\n",
    "    ).add_to(Map)\n",
    "\n",
    "\n",
    "#  Add the sea dikes group to the map\n",
    "shp.sea_dikes_group.add_to(Map)\n",
    "\n",
    "\n",
    "# Add the breakwater group to the map\n",
    "shp.breakwaters_group.add_to(Map)\n",
    "\n",
    "# other human activities\n",
    "shp.Extra_group.add_to(Map)\n",
    "folium.LayerControl().add_to(Map)   "
   ]
  },
  {
   "cell_type": "markdown",
   "id": "6b4f6598",
   "metadata": {},
   "source": [
    "### Create the HTML file"
   ]
  },
  {
   "cell_type": "code",
   "execution_count": null,
   "id": "e4b36c47",
   "metadata": {},
   "outputs": [
    {
     "data": {
      "text/html": [
       "\n",
       "            <style>\n",
       "                .geemap-dark {\n",
       "                    --jp-widgets-color: white;\n",
       "                    --jp-widgets-label-color: white;\n",
       "                    --jp-ui-font-color1: white;\n",
       "                    --jp-layout-color2: #454545;\n",
       "                    background-color: #383838;\n",
       "                }\n",
       "\n",
       "                .geemap-dark .jupyter-button {\n",
       "                    --jp-layout-color3: #383838;\n",
       "                }\n",
       "\n",
       "                .geemap-colab {\n",
       "                    background-color: var(--colab-primary-surface-color, white);\n",
       "                }\n",
       "\n",
       "                .geemap-colab .jupyter-button {\n",
       "                    --jp-layout-color3: var(--colab-primary-surface-color, white);\n",
       "                }\n",
       "            </style>\n",
       "            "
      ],
      "text/plain": [
       "<IPython.core.display.HTML object>"
      ]
     },
     "metadata": {},
     "output_type": "display_data"
    }
   ],
   "source": [
    "Map.to_html(\"Mangrove_LOSS_map.html\")"
   ]
  }
 ],
 "metadata": {
  "kernelspec": {
   "display_name": "gee-env2",
   "language": "python",
   "name": "python3"
  },
  "language_info": {
   "codemirror_mode": {
    "name": "ipython",
    "version": 3
   },
   "file_extension": ".py",
   "mimetype": "text/x-python",
   "name": "python",
   "nbconvert_exporter": "python",
   "pygments_lexer": "ipython3",
   "version": "3.13.7"
  }
 },
 "nbformat": 4,
 "nbformat_minor": 5
}
